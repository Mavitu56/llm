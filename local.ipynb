{
 "cells": [
  {
   "cell_type": "markdown",
   "metadata": {},
   "source": [
    "# A simple RAG application using open-source models"
   ]
  },
  {
   "cell_type": "code",
   "execution_count": 1,
   "metadata": {},
   "outputs": [],
   "source": [
    "import os\n",
    "from dotenv import load_dotenv\n",
    "\n",
    "load_dotenv()\n",
    "\n",
    "MODEL = \"llama2:7b-chat\" # Mudar para o modelo instalado\n"
   ]
  },
  {
   "cell_type": "code",
   "execution_count": 2,
   "metadata": {},
   "outputs": [],
   "source": [
    "from langchain_community.llms import Ollama\n",
    "from langchain_openai.chat_models import ChatOpenAI\n",
    "from langchain_community.embeddings import OllamaEmbeddings\n",
    "from langchain_openai.embeddings import OpenAIEmbeddings\n",
    "\n",
    "if MODEL.startswith(\"gpt\"):\n",
    "    model = ChatOpenAI(openai_api_key=OPENAI_API_KEY, model=MODEL)\n",
    "    embeddings = OpenAIEmbeddings()\n",
    "else:\n",
    "    model = Ollama(model=MODEL)\n",
    "    embeddings = OllamaEmbeddings(model=MODEL)\n",
    "\n",
    "model.invoke(\"Tell me a joke\")"
   ]
  },
  {
   "cell_type": "code",
   "execution_count": null,
   "metadata": {},
   "outputs": [
    {
     "data": {
      "text/plain": [
       "\"Sure! Here's one:\\n\\nWhy don't scientists trust atoms?\\nBecause they make up everything!\""
      ]
     },
     "execution_count": 3,
     "metadata": {},
     "output_type": "execute_result"
    }
   ],
   "source": [
    "from langchain_core.output_parsers import StrOutputParser\n",
    "\n",
    "parser = StrOutputParser()\n",
    "\n",
    "chain = model | parser \n",
    "chain.invoke(\"Tell me a joke\")"
   ]
  },
  {
   "cell_type": "code",
   "execution_count": null,
   "metadata": {},
   "outputs": [
    {
     "data": {
      "text/plain": [
       "'\\nAnswer the question based on the context below. If you can\\'t \\nanswer the question, reply \"I don\\'t know\".\\n\\nContext: Here is some context\\n\\nQuestion: Here is a question\\n'"
      ]
     },
     "execution_count": 4,
     "metadata": {},
     "output_type": "execute_result"
    }
   ],
   "source": [
    "from langchain.prompts import PromptTemplate\n",
    "### O template a seguir pode ser modificado para obter melhores resultados\n",
    "### Este template inicial não foi testado, qualquer problema na geração das respostas, ele deve ser alterado\n",
    "template = \"\"\"\n",
    "Responda sempre em Português-BR.\n",
    "Responda à pergunta com base no contexto abaixo. Se não conseguir \n",
    "responder à pergunta baseada no contexto, responda deixando CLARO que não se baseou no contexto.\n",
    "\n",
    "Contexto: {context}\n",
    "\n",
    "Questão: {question}\n",
    "\"\"\"\n",
    "\n",
    "prompt = PromptTemplate.from_template(template)\n",
    "prompt.format(context=\"Aqui está o contexto\", question=\"Aqui está a pergunta\")"
   ]
  },
  {
   "cell_type": "code",
   "execution_count": null,
   "metadata": {},
   "outputs": [
    {
     "data": {
      "text/plain": [
       "' Sure! Based on the context you provided, my answer would be:\\n\\n\"My name is Santiago.\"'"
      ]
     },
     "execution_count": 5,
     "metadata": {},
     "output_type": "execute_result"
    }
   ],
   "source": [
    "chain = prompt | model | parser\n",
    "\n",
    "chain.invoke({\"context\": \"My parents named me Santiago\", \"question\": \"What's your name'?\"})"
   ]
  },
  {
   "cell_type": "code",
   "execution_count": null,
   "metadata": {},
   "outputs": [
    {
     "data": {
      "text/plain": [
       "[Document(page_content='Título\\n:\\nIdentificação,\\nanálise\\ne\\nmelhoria\\nde\\nmétricas\\nde\\nCustomer\\nSuccess\\n(CS)\\nutilizando\\nInteligência\\nArtificial\\nGenerativa\\nno\\ncontexto\\nde\\ncursos\\nde\\ngraduação\\na\\ndistância\\ncom\\no\\nobjetivo\\nde\\nreduzir\\na\\nevasão\\nescolar\\nResumo\\nda\\nProposta\\n:\\nCONTEXTO:\\nDados\\ndo\\nCenso\\nda\\nEducação\\nEAD\\nde\\n2020\\n(Associação\\nBrasileira\\nde\\nEducação\\na\\nDistância,\\n2020)\\nindicam\\nque\\na\\ntaxa\\nde\\nevasão\\nde\\ncursos\\nde\\ngraduação\\nEAD\\né\\nsuperior\\na\\n24%\\nem\\nalgumas\\ninstituições\\nde\\nensino\\nsuperior\\nno\\nBrasil.\\nDado\\no\\ncaráter\\ntecnológico\\nenvolvido\\nnos\\ncursos\\nde\\ngraduação\\nEAD,\\na\\ncoleta\\ne\\na\\nanálise\\nde\\nmétricas\\nde\\nCS\\npara\\notimização\\ndas\\nferramentas/plataformas\\nde\\nsuporte\\naos\\ncursos\\nde\\nEAD,\\ntendem\\na\\naumentar\\na\\nentrega\\nde\\nvalor\\naos\\nalunos\\ne\\nreduzir\\na\\nsua\\nevasão\\nnos\\ncursos.\\nLACUNA:\\nO\\nuso\\nde\\ntécnicas\\nde\\nCS\\nno\\ncontexto\\nde\\nSoftware\\nAs\\na\\nService\\n(SaaS)\\naumentou\\nsignificativamente\\nnos\\núltimos\\nanos\\ndada\\na\\nnecessidade\\nde\\nfidelização\\ndos\\nclientes\\ne\\nredução\\nnas\\ntaxas\\nde\\nChurn\\n(cancelamento)\\nde\\ncontratos.\\nEm\\numa\\nperspectiva\\nde\\nCS,\\nalunos\\npodem\\nser\\nconsiderados\\ncomo\\nclientes\\npara\\nas\\nUniversidades.\\nNo\\nentanto,\\npoucos\\nsão\\nos\\nestudos\\nque\\nconsideram\\no\\nuso\\ndessas\\ntécnicas/métricas\\npara\\no\\nsucesso\\ndo\\naluno,\\nno\\ncontexto\\nde\\nplataformas\\nde\\ncursos\\nEAD.\\nA\\nimplementação\\nde\\ndiversas\\nações\\npara\\na\\nmelhoria\\ndo\\nengajamento\\ndos\\nalunos\\nrequer\\ncomunicação\\nintensa\\ncom\\nos\\nalunos.\\nNesse\\ncontexto,\\no\\nuso\\nde\\nIAs\\nGenerativas\\npode\\napoiar\\nessas\\nações\\ncom\\no\\nmínimo\\nde\\nintervenção\\nhumana.\\nPROPÓSITO:\\nIdentificar,\\ncoletar\\ne\\nanalisar\\nmétricas\\nde\\nCS\\nrelacionados\\na\\nalunos\\nde\\ngraduação\\nem\\ncursos\\nEAD,\\ne\\nutilizar/integrar\\nframeworks\\nde\\nIA\\nGenerativa\\ncom\\no\\nobjetivo\\nde:\\n(i)\\nmelhorar\\nas\\nmétricas\\nde\\nCS,\\n(ii)\\naumentar\\na\\nentrega\\nde\\nvalor\\naos\\nalunos,\\n(iii)\\naumentar\\no\\nengajamento\\ndos\\nalunos\\nnos\\ncursos,\\n(iii)\\npromover\\nmelhoria\\ncontínua\\ndos\\ncursos\\ne\\nda\\nplataforma\\nde\\nEAD\\ne\\nconsequentemente\\n(iv)\\nreduzir\\na\\nevasão\\nestudantil.\\nMETODOLOGIA:\\nPrimeiramente\\nserá\\nutilizado\\no\\nmétodo\\nde\\npesquisa\\nde\\nRevisão\\nSistemática\\nde\\nLiteratura\\n(RSL)\\ncom\\no\\nintuito\\nde\\nmapear\\nquais\\nos\\ntrabalhos\\nde\\nCS\\nque\\njá\\nforam\\nrealizados\\nno\\ncontexto\\nde\\neducação\\na\\ndistância.\\nColetar\\nas\\nmétricas\\nidentificadas\\nna\\nRSL\\nna\\nferramenta\\nMoodle\\ne\\nanalisá-las\\nutilizando\\nas\\nferramentas\\nde\\nProduct\\nAnalytics\\n(Mixpanel\\ne\\nAmplitude).\\nIdentificar\\nações/melhorias\\nna\\nplataforma\\nEAD\\ne\\nna\\ncondução\\ndo\\ncurso\\nque\\ndeverão\\nser\\nexecutadas\\ncom\\no\\nobjetivo\\nde\\naumentar\\no\\nengajamento\\ndos\\nalunos.\\nPara\\ncada\\nação\\nidentificada\\nserão\\nformuladas\\nhipóteses\\ne\\nexperimentos\\nserão\\nconduzidos\\ncom\\no\\nintuito\\nde\\nvalidá-las.\\nA\\nárea\\nde\\nCS\\né\\numa\\nárea\\nque\\nfaz\\nuso\\nINTENSO\\nde\\ndefinição\\ne\\nvalidação\\nde\\nhipóteses,\\nutilizando\\ndiversos\\nmétodos\\nestatísticos,\\nmas\\nem\\nespecial\\nos\\ntestes\\nA/B.\\nc)\\nQuestão\\n01\\n-\\nQual\\né\\no\\nproblema\\nabordado\\nnesta\\nproposta?\\nApresente\\nde\\nforma\\nclara\\ne\\nobjetiva\\na\\npergunta\\nou\\na\\nhipótese\\nprincipal\\nque\\nserá\\ninvestigada\\n(Propostas\\nde\\nnatureza\\n\"Avanço\\ndo\\nconhecimento\"\\ndevem\\nindicar\\na\\nlacuna\\nno\\nconhecimento/\\na', metadata={'source': '1. Projeto Uso IA Generativa para redução de Desistência de alunos de Graduação EAD.pdf', 'page': 0}),\n",
       " Document(page_content='necessidade\\nou\\ncarência\\ndesse\\nconhecimento.\\nPropostas\\nde\\nnatureza\\n\"Avanço\\ntecnológico\"\\ndevem\\nindicar\\npara\\nqual\\ntipo\\nde\\naplicação\\nse\\npretende\\ndesenvolver\\na\\ntecnologia\\nou\\nknow-how\\npretendidos).\\nO\\nproblema\\nabordado\\nnessa\\nproposta\\né\\na\\nAlta\\ntaxa\\nde\\nEvasão\\nde\\nAlunos\\nem\\ncursos\\nde\\ngraduação\\nEAD\\nem\\nInstituições\\nde\\nEnsino\\nSuperior.\\nA\\nquestão\\nde\\npesquisa\\na\\nser\\nrespondida\\nnesse\\nprojeto\\né:\\nQ1:\\nA\\nmelhoria\\ndas\\nmétricas\\nde\\nCS,\\nutilizando\\nframeworks\\nde\\nInteligência\\nArtificial\\nGenerativa\\npara:\\n(i)\\nprover\\nfeedback\\nmais\\nrápido\\naos\\nalunos\\ne\\n(ii)\\nestimular\\na\\ndiscussão\\nem\\nfóruns\\nda\\nferramenta\\nEAD,\\npermitem\\naumentar\\no\\nengajamento\\ndesses\\nalunos\\nnos\\ncursos\\nde\\ngraduação\\nEAD?\\nO\\nengajamento\\ndos\\nalunos\\ndeverá\\nser\\nmedido\\natravés\\ndas\\nprincipais\\nmétricas\\nde\\nCS\\nANTES\\ne\\nAPÓS\\na\\nutilização\\nda\\nIA\\nGenerativa\\nna\\nferramenta\\nde\\nEAD\\nutilizada\\npelos\\nalunos.\\nEssas\\nmétricas\\nsão:\\n(i)\\nDaily,\\nWeekly,\\nMonthly\\nActive\\nUser\\n(DAU,\\nWAU,\\nMAU):\\n(Usuários\\nAtivos\\nDiariamente/Semanalmente/Mensalmente)\\ne\\nrepresenta\\no\\nnúmero\\nde\\npessoas\\nque\\nestavam\\nativas\\nno\\nseu\\nproduto\\ndurante\\no\\nDia/Semana\\ne\\nMês,\\nrespectivamente\\n(são\\n3\\nmétricas). \\n(ii)\\nTaxa\\nMédia\\nde\\nuso\\nAPP\\n(TMA):\\nTaxa\\nmédia\\nde\\nuso\\nda\\nplataforma\\nEAD\\n \\n(iii)\\nNet\\nPromoter\\nScore\\n(NPS):\\né\\numa\\nmétrica\\nde\\nlealdade\\ndo\\ncliente.\\nEla\\nbusca\\ndar\\num\\npanorama\\nsobre\\no\\nquão\\nsatisfeitos\\nestão\\nseus\\nusuários\\ne\\nse\\neles\\nrecomendariam\\nsua\\nmarca. \\nAlém\\ndessas\\nmétricas\\ndeverão\\nser\\nidentificadas\\ne\\ncoletadas\\noutras\\nmétricas\\nde\\nCS\\nespecíficas\\ndo\\ncontexto\\nde\\nEAD\\n(que\\nserão\\nidentificadas\\nna\\nRSL),\\nque\\nindiquem\\nengajamento.\\nSerão\\nrealizados\\nexperimentos\\ncom\\ntestes\\nA/B\\npara\\nvalidar\\nas\\nmelhorias\\npropostas.\\nQ2:\\nO\\naumento\\ndo\\nengajamento\\nde\\nalunos\\nem\\ncursos\\nEAD\\nreduz\\na\\nsua\\ntaxa\\nde\\nevasão?\\nA\\nmétrica\\nutilizada\\npara\\nessa\\nquestão\\nde\\npesquisa\\nserá\\no\\n(i)\\nChurn\\n(desistência):\\né\\num\\nindicador\\nque\\nmostra\\na\\ntaxa\\nde\\nclientes\\nque\\n“cancelaram\\no\\ncontrato”\\ncom\\na\\nsua\\nempresa\\nou\\npararam\\nde\\nconsumir\\nos\\nseus\\nprodutos.\\nNo\\ncontexto\\nde\\nEAD\\nos\\nalunos\\ndesistentes\\ndo\\ncurso\\nSerão\\nrealizados\\nexperimentos\\ncom\\ntestes\\nA/B\\npara\\nvalidar\\nas\\nmelhorias\\npropostas\\ne\\nidentificar\\nse\\nocorreram\\nimpactos\\nestatisticamente\\nsignificativos\\nna\\ntaxa\\nde\\nevasão\\n(\\nChurn\\n).\\nQual\\no\\ntipo\\nde\\naplicação\\nque\\nse\\npretende\\ndesenvolver?\\nA\\ntecnologia\\na\\nser\\ndesenvolvida\\nvisa\\nser\\naplicada\\ne\\nintegrada\\nao\\nproduto\\ndigital\\nMoodle,\\nferramenta\\namplamente\\nutilizada\\nno\\nmundo\\ntodo\\npara\\na\\nrealização\\nde\\ncursos\\nEAD.\\nÉ\\nobjetivo\\ndesse\\nprojeto\\nde\\npesquisa\\npromover\\na\\nredução\\ndo\\níndice\\nde\\nevasão\\ndos\\ncursos\\nde\\ngraduação\\na\\ndistância\\nda\\nUNIFEI\\nem\\nespecial,\\natravés\\nda:\\n(i)\\nidentificação\\ndas\\nmétricas\\nde\\nCS,\\n(ii)\\nColeta\\ne\\nanálise\\ndessas\\nmétricas,\\ne\\nidentificação\\nde\\nações\\ncom\\no\\nintuito\\nde\\naumentar\\no\\nengajamento\\ndos\\nalunos.\\nEntre\\nas\\nações\\nque\\npodem\\nser\\ndesenvolvidas\\npara\\no', metadata={'source': '1. Projeto Uso IA Generativa para redução de Desistência de alunos de Graduação EAD.pdf', 'page': 1}),\n",
       " Document(page_content='aumento\\ndo\\nengajamento\\ndos\\nalunos\\nnos\\ncursos,\\nestá:\\n(i)\\no\\nestímulo\\nà\\ndiscussão\\nde\\ntópicos\\ndas\\ndisciplinas\\nnos\\nfóruns\\nda\\nferramenta,\\n(ii)\\no\\nfeedback\\nrápido\\na\\ndúvidas\\ndos\\nalunos,\\n(iii)\\no\\nsuporte\\nno\\nuso\\nda\\nferramenta\\nde\\nEAD\\n(\\ntech\\ntouch\\ndevido\\na\\nescala\\ndesses\\ncursos)\\ne\\n(iv)\\num\\nprocesso\\nde\\nonbording\\nna\\nferramenta\\nde\\nEAD.\\nTodas\\nessas\\nações\\npodem\\nser\\nautomatizadas\\ncom\\no\\nuso\\nde\\nIAs\\nGenerativas.\\nd)\\nQuestão\\n02\\n-\\nCite\\nas\\ntrês\\nprincipais\\nreferências\\nbibliográficas\\nnas\\nquais\\nse\\nbaseia\\na\\nproposta.\\n(Incluir\\num\\nlink\\npara\\no\\nresumo\\nou\\npara\\na\\npublicação\\ninteira,\\nmencionando\\na\\nprincipal\\ninformação\\nde\\ncada\\numa\\ndas\\npublicações).\\nNa\\nárea\\nde\\nCustomer\\nSuccess\\n:\\n[1]\\nCustomer\\nSuccess\\nComo\\nempresas\\ninovadoras\\ndescobriram\\nque\\na\\nmelhor\\nforma\\nde\\naumentar\\na\\nreceita\\né\\ngarantir\\no\\nsucesso\\ndos\\nclientes,\\nEditora\\nAutêntica\\nBusiness,\\nSteinman\\nD.,\\nMurphy\\nL.\\ne\\nMehta\\nN.\\n2021.\\nEsse\\nlivro\\né\\na\\nprincipal\\nreferência\\nda\\nárea,\\nele\\napresenta\\ndesde\\na\\nhistória\\nde\\nsurgimento\\ndessa\\nárea,\\naté\\na\\norganização\\ndos\\npapéis\\nrelacionados\\na\\nárea\\ndentro\\nda\\nempresa\\ne\\napresenta\\nas\\n10\\nleis\\ndo\\nCustomer\\nSuccess,\\napresentando\\ndiversas\\nmétricas,\\nproblemas\\nrelacionado\\na\\nrelação\\ncom\\nclientes,\\nindícios\\ndos\\nproblemas\\ne\\nprovidências\\nque\\npodem\\nser\\ntomadas\\npara\\ncada\\ntipo\\ncomum\\nde\\nproblemas.\\nIA\\nGenerativa\\nno\\ncontexto\\neducacional\\n[2]\\nDwivedi,\\nY.\\nK.,\\nKshetri,\\nN.,\\nHughes,\\nL.,\\nSlade,\\nE.\\nL.,\\nJeyaraj,\\nA.,\\nKar,\\nA.\\nK.,\\n...\\n&\\nWright,\\nR.\\n(2023).\\n“So\\nwhat\\nif\\nChatGPT\\nwrote\\nit?”\\nMultidisciplinary\\nperspectives\\non\\nopportunities,\\nchallenges\\nand\\nimplications\\nof\\ngenerative\\nconversational\\nAI\\nfor\\nresearch,\\npractice\\nand\\npolicy.\\nInternational\\nJournal\\nof\\nInformation\\nManagement,\\n71,\\n102642.\\n(\\nhttps://doi.org/10.1016/j.ijinfomgt.2023.102642\\n)\\nEste\\nartigo\\napresenta\\num\\nconjunto\\nde\\ncontribuições,\\nanalisando\\nos\\nimpactos\\npositivos\\ne\\nnegativos,\\nda\\npresença\\nde\\nferramentas\\nde\\nInteligência\\nArtificial\\nGenerativa\\nna\\nsociedade,\\nconsiderando\\ndiversas\\náreas\\ndo\\nconhecimento.\\nA\\nrecente\\nadoção\\ndo\\nChatGPT\\nvem\\ndemonstrando\\nas\\ncapacidades\\ndos\\nmodelos\\nde\\nInteligência\\nArtificial,\\nque\\nintegram\\ndeep\\nlearning\\ne\\nmodelos\\nde\\nlinguagem,\\naplicados\\nàs\\ntarefas\\nde\\nprocessamento\\nde\\nlinguagem\\nnatural,\\ncomo\\na\\ngeração\\nde\\ntexto.\\nEste\\nartigo\\nbusca\\nresponder\\nquais\\nsão\\nas\\noportunidades,\\ndesafios\\ne\\nimplicações\\nrelacionadas\\na\\ntecnologias\\nde\\nIA\\ngenerativas\\nno\\ncontexto\\neducacional\\ne\\ntambém\\nda\\nsociedade?\\nE\\nquais\\nquestões\\nde\\npesquisa\\ndevem\\nser\\ninvestigadas\\nneste\\nmesmo\\ncenário?', metadata={'source': '1. Projeto Uso IA Generativa para redução de Desistência de alunos de Graduação EAD.pdf', 'page': 2}),\n",
       " Document(page_content='[3]\\nSullivan,\\nM.,\\nKelly,\\nA.,\\n&\\nMcLaughlan,\\nP.\\nChatGPT\\nin\\nhigher\\neducation:\\nConsiderations\\nfor\\nacademic\\nintegrity\\nand\\nstudent\\nlearning.\\nJournal\\nof\\nApplied\\nLearning\\nand\\nTeaching,\\n6(1).\\n(\\nhttps://doi.org/10.37074/jalt.2023.6.1.17\\n)\\nEste\\nartigo\\naborda\\nquestões\\nacerca\\nda\\npresença\\nde\\nferramentas\\nde\\nIA\\ngenerativa,\\ncomo\\no\\nChatGPT,\\nno\\nensino\\nsuperior,\\nlevantando\\npreocupações,\\nlimitações\\ne\\noportunidades\\npara\\no\\naprendizado\\ndos\\nalunos\\nna\\nuniversidade.\\nTrata-se\\nde\\num\\ndebate\\nque\\ndemonstra\\na\\nimportância\\nde\\nse\\ninvestigar\\nmais\\na\\nforma\\ncomo\\no\\nChatGPT\\nse\\ninsere\\nno\\ncontexto\\ndo\\nensino\\nsuperior.\\nEstudos\\ndestacam\\nque\\na\\npresença\\nde\\nferramentas\\nde\\nIA\\ntendem\\na\\nmelhorar\\ne\\nauxiliar\\nas\\natividades\\nacadêmicas.\\ne)\\nQuestão\\n03\\n-\\nPor\\nque\\neste\\ntema\\né\\nimportante\\ndentro\\nde\\nsua\\nárea\\nde\\nespecialidade?\\n(a\\nsubárea\\nde\\nconhecimento\\ndeclarada\\nna\\nproposta)\\nIsto\\né,\\no\\nque\\nmudará\\nnesta\\nespecialidade\\nquando\\nesta\\nproposta\\nestiver\\nconcluída?\\nQuais\\nserão\\nos\\npossíveis\\nimpactos?\\nCustomer\\nSuccess\\n(CS)\\né\\num\\ndas\\náreas\\nque\\nmais\\navançam\\nno\\nmercado\\nde\\ntecnologia\\nda\\ninformação\\natualmente,\\ndado\\nque\\nos\\nseus\\nprincipais\\nobjetivos\\nsão\\n(i)\\ngarantir\\na\\nentregar\\nvalor\\nao\\ncliente\\no\\nmais\\nrápido\\npossível\\n(ii)\\ne\\ngerar\\nmais\\nreceita\\nrecorrente\\npara\\nas\\nempresas,\\natravés\\nda\\nredução\\ndo\\nChurn\\n(cancelamentos\\nde\\ncontratos).\\nNo\\nentanto,\\nessa\\né\\numa\\nárea\\nque\\ndemanda\\nintensos\\ninvestimentos\\nem\\npessoal\\nespecializado.\\nCom\\na\\npopularização\\ndos\\nframeworks\\nde\\nIA\\nGenerativas\\nabriu-se\\na\\npossibilidade\\nde\\naplicar\\nessa\\ntecnologia\\nno\\ncontexto\\nde\\nCS,\\nna\\nárea\\nda\\neducação\\nsuperior\\na\\ndistância\\n(área\\nque\\ntambém\\nrequer\\nintenso\\ninvestimento\\nem\\npessoal\\npara\\nque\\nos\\ncursos\\npossam\\nescalar\\n(oferecer\\numa\\nquantidade\\nmaior\\nde\\nvagas),\\nsem\\nperder\\na\\nqualidade.\\nQuando\\na\\nproposta\\nestiver\\nconcluída,\\nhaverá:\\n(i)\\naumento\\nda\\nsatisfação\\ndos\\nalunos\\nem\\nrelação\\naos\\ncursos,\\no\\nque\\nconsequentemente\\nreduzirá\\na\\nsua\\nevasão,\\ne\\na\\n(ii)\\nredução\\ndos\\ncustos\\npara\\noferecer\\numa\\neducação\\nde\\nmaior\\nqualidade\\na\\nesses\\nalunos.\\nDo\\nponto\\nde\\nvista\\ndos\\nmodelos\\nde\\nInteligência\\nArtificial\\nGenerativas,\\nmodelos\\njá\\ntreinados\\npoderão\\nser\\ntestados\\ne\\navaliados\\nem\\ndiferentes\\ncontextos\\neducacionais\\n(disciplinas\\nde\\ndiversas\\náreas,\\npor\\nexemplo).\\nf)\\nQuestão\\n04\\n-\\nQual\\no\\nimpacto\\nesperado\\nda\\nproposta\\ne\\nas\\nperspectivas\\nque\\nele\\npoderá\\nabrir\\npara\\nnovos\\navanços\\ncientíficos\\ne/ou\\ntecnológicos?', metadata={'source': '1. Projeto Uso IA Generativa para redução de Desistência de alunos de Graduação EAD.pdf', 'page': 3}),\n",
       " Document(page_content='O\\nprincipal\\nimpacto\\nesperado\\npela\\nproposta\\né\\na\\nredução\\nda\\ntaxa\\nde\\ndesistência\\nde\\nalunos\\nem\\ncursos\\nde\\ngraduação\\nEAD,\\natravés\\nda\\nidentificação\\ne\\nanálise\\ndas\\nmétricas\\nde\\nCS\\ne\\ndo\\nuso\\nde\\nIA\\nGenerativas\\npara\\nmelhoria\\ndessas\\nmétricas\\natravés\\ndo\\naumento\\ndo\\nengajamento\\ndos\\nalunos\\nno\\ncurso.\\nEsse\\naumento\\ndo\\nengajamento\\npode-se\\ndar,\\nutilizando\\numa\\nIA\\nGenerativa\\nde\\nvárias\\nformas,\\nentre\\nelas:\\n(i)\\nApoiando\\na\\ncriação\\ndo\\nprocesso\\nde\\nOnboarding\\ndo\\naluno\\nna\\nferramenta\\nde\\nEAD\\nE\\nnas\\ndisciplinas\\ncursadas,\\n(ii)\\nIdentificando\\ne\\nestimulando\\na\\nparticipação\\ndos\\nalunos\\nem\\nfóruns\\nde\\ndiscussão\\nna\\nferramenta,\\n(iii)\\nprovendo\\nfeedback\\nrápido\\naos\\nalunos\\na\\nrespeito\\nde\\ndúvidas\\nrelacionadas\\na\\ndisciplina\\n(sob\\nmoderação\\nem\\ndiferentes\\nníveis\\ndo\\ndocente),\\n(iv)\\ndando\\nsuporte\\nautomatizado\\nao\\nuso\\nda\\nferramenta\\nde\\nEAD\\n(\\ntech\\ntouch\\n)\\ne\\n(v)\\nidentificando\\nE\\nmaximizando\\nos\\npontos\\nde\\nentrega\\nde\\nvalor\\naos\\nalunos.\\nO\\nteste\\nde\\ndiferentes\\nModelos\\nde\\nIA\\nGenerativas,\\nem\\ndiferentes\\ndisciplinas\\nde\\ndiferentes\\ncursos\\nabrirá\\na\\npossibilidade\\nde\\nsua\\naplicação\\nna\\nautomatização\\nde\\nvárias\\natividades\\nde\\nensino\\nque\\nsão\\nmais\\noperacionais\\ne\\nmenos\\nestratégicas\\npara\\nos\\ndocentes.\\nÉ\\nimportante\\ndestacar\\nque\\no\\nmercado\\nde\\ntecnologia\\nda\\ninformação\\npassou\\npor\\nmudanças\\nprofundas\\nna\\nmaneira\\ncomo\\nos\\nsoftwares\\nsão\\ncomercializados\\nnas\\núltimas\\n3\\ndécadas.\\nA\\npopularização\\nda\\ninternet\\npermitiu\\na\\ncriação\\nde\\nSoftware\\nComo\\nServiço\\n(SaaS),\\nos\\nquais\\nsão\\ncomercializados\\natravés\\nde\\numa\\nassinatura\\n(licenças\\nde\\nuso)\\ncom\\nrenovação\\nautomática\\nmensal,\\na\\num\\npreço\\nque\\né\\numa\\nínfima\\nporção\\ndo\\npreço\\nque\\nera\\npago\\nno\\npassado\\nquando\\na\\ncomercialização\\ndesses\\nsoftwares\\nse\\ndava\\natravés\\nda\\ncompra\\nde\\nlicenças\\nperpétuas.\\nA\\npossibilidade\\nde\\ncomprar\\numa\\nlicença\\nde\\nuso,\\nrenovável\\nmensalmente\\n(e\\npassível\\nde\\ncancelamento\\npelo\\nusuário\\na\\nqualquer\\nmomento),\\nfez\\ncom\\nque\\nsurgisse\\na\\nnecessidade\\nde\\nentrega\\nde\\nvalor\\ncontínua\\ne\\no\\nmais\\ncedo\\npossível\\npara\\no\\nusuário.\\nDentro\\ndesse\\ncontexto\\nas\\npráticas\\nde\\nCS\\ntêm\\nsido\\namplamente\\nutilizadas\\npelas\\nempresas\\nde\\nSaaS\\ncom\\no\\nintuito\\nde\\npromover:\\n(i)\\nRetenção\\ndo\\nusuário\\ne\\nRedução\\ndo\\nChurn\\n(Cancelamento/desistência):\\ngarantir\\nque\\nos\\n“clientes”\\ncontinuem\\na\\nusar\\ne\\nse\\nbeneficiar\\ndos\\nprodutos\\ndigitais,\\no\\nque\\najuda\\na\\nreduzir\\na\\ntaxa\\nde\\nchurn\\n(cancelamentos).\\nIsso\\né\\nalcançado\\npor\\nmeio\\ndo\\nacompanhamento\\nativo,\\nidentificação\\nde\\nproblemas\\ne\\nresolução\\nrápida\\nde\\ndificuldades\\nenfrentadas\\npelos\\nclientes.\\n(ii)\\nMaximização\\ndo\\nValor\\ndo\\nCliente:\\nA\\nequipe\\nde\\nCS\\ntrabalha\\nem\\nestreita\\ncolaboração\\ncom\\nos\\nclientes\\npara\\nentender\\nseus\\nobjetivos\\ne\\nnecessidades\\nespecíficas.\\nIsso\\npermite\\nque\\neles\\nforneçam\\norientação\\npersonalizada\\nsobre\\ncomo\\nusar\\nos\\nprodutos\\ndigitais\\nde\\nmaneira\\nmais\\neficaz\\npara\\natingir\\nesses\\nobjetivos,\\nmaximizando\\nassim\\no\\nvalor\\nque\\nos\\n“clientes”\\nobtêm.(iii)\\nEngajamento\\ne\\nAdoção:\\nCS\\nvisa\\ngarantir\\nque\\nos\\nclientes\\nestejam\\nengajados\\ne\\nadotem\\nos\\nrecursos\\ne\\nfuncionalidades\\ndos\\nprodutos\\ndigitais.\\nIsso\\npode\\nincluir\\na\\noferta\\nde\\ntreinamentos,\\nworkshops,\\ntutoriais\\ne\\nsuporte\\ntécnico\\npara\\ngarantir\\nque\\nos\\nclientes\\ncompreendam\\ne\\naproveitem\\nao\\nmáximo\\na\\nplataforma.\\n(iv)\\nDefensores\\nda\\nMarca:\\nClientes\\nbem-sucedidos\\ne\\nsatisfeitos\\npodem\\nse\\ntornar\\ndefensores\\nda\\nmarca,\\npromovendo\\nos\\nprodutos\\ndigitais\\npara\\noutros\\npotenciais', metadata={'source': '1. Projeto Uso IA Generativa para redução de Desistência de alunos de Graduação EAD.pdf', 'page': 4}),\n",
       " Document(page_content='clientes\\npor\\nmeio\\nde\\nrecomendações\\ne\\ntestemunhos\\n(Steinman\\nD.,\\nMurphy\\nL.\\ne\\nMehta\\nN.m\\n2021).\\nAtualmente\\nexistem\\npouquíssimos\\nestudos\\nrelacionados\\nao\\nuso\\nde\\nCS\\nna\\nárea\\nde\\nEAD\\nonde\\nexiste\\numa\\nalta\\ntaxa\\nde\\nevasão\\n(desistência)\\ndos\\nalunos,\\nque\\nem\\numa\\nperspectiva\\nde\\nCS\\npodem\\nser\\nconsiderados\\ncomo\\nclientes\\ndas\\nUniversidades\\n(incluindo\\nas\\nPúblicas).\\nPor\\noutro\\nlado,\\nas\\nações\\npor\\nhora\\nelencadas\\ncomo\\npromotoras\\ndo\\nengajamento\\ndos\\nalunos\\nnos\\ncursos\\nEAD\\nsão\\natividades\\nque\\naté\\npouco\\ntempo\\natrás\\nrequeriam\\nintensa\\nparticipação\\nhumana\\npara\\ncomunicação.\\nAções\\nque\\nagora,\\njá\\npodem\\nser\\nrealizadas\\npor\\nIAs\\ngenerativas,\\nabrindo\\nespaço\\npara\\npesquisas\\nque\\npropiciem\\numa\\nmelhor\\nExperiência\\ndo\\nAluno\\nna\\nrealização\\nde\\ncursos\\nEAD.\\ng)\\nQuestão\\n05\\n-\\nQual\\na\\nestratégia\\nexperimental\\na\\nser\\nadotada\\npara\\na\\nobtenção\\nda\\nresposta\\nao\\nproblema\\nformulado?\\n(para\\npropostas\\nexperimentais)\\nE/OU\\nQual\\na\\nabordagem\\nteórico\\nmetodológica\\na\\nser\\nutilizada?\\n(para\\npropostas\\nteóricas)\\nA\\npesquisa\\nserá\\nconduzida\\nda\\nseguinte\\nforma:\\n●\\nInicialmente\\nserá\\nconduzida\\numa\\nRevisão\\nSistemática\\nde\\nLiteratura\\n(RSL)\\ncom\\no\\nintuito\\nde\\nmapear\\nquais\\nos\\ntrabalhos\\nde\\nCustomer\\nSucess\\n(CS)\\njá\\nforam\\nrealizados\\nno\\ncontexto\\nde\\neducação\\na\\ndistância.\\nO\\nobjetivo\\ndessa\\nprimeira\\netapa\\né\\nresponder\\na\\nseguinte\\nquestão\\nde\\npesquisa:\\nQuais\\npráticas\\ne\\nmétricas\\nde\\nCS\\njá\\nforam\\naplicadas\\ncom\\nsucesso\\nno\\ncontexto\\nde\\nEducação\\na\\ndistância\\n(EAD)?\\n●\\nUma\\nvez\\nidentificadas\\nas\\nprincipais\\nmétricas\\nde\\nCS\\npara\\no\\ncontexto\\nde\\nEAD,\\nessas\\nmétricas\\nserão\\ncoletadas\\nda\\nferramenta\\nMoodle,\\nutilizando\\nas\\nferramentas\\nde\\nProduct\\nAnalytics\\n(Mixpanel\\ne\\nAmplitude).\\nO\\nobjetivo\\nnesse\\nmomento\\né\\nentender\\no\\ncomportamento\\ndos\\nusuários\\n(alunos\\ne\\nprofessores)\\nno\\nuso\\nda\\nferramenta\\nde\\nEAD,\\npermitindo\\nanálises\\naprofundadas\\ne\\no\\ndesenvolvimento\\nde\\nestratégias\\nde\\nproduto\\na\\npartir\\ndessas\\ninformações.\\nMixpanel\\ne\\nAmplitude\\nsão\\nferramentas\\nque\\ncentralizam\\num\\ngrande\\nvolume\\nde\\ndados\\nsobre\\no\\nseu\\nproduto\\n(como\\nengajamento\\ndo\\nusuário,\\ntempo\\nde\\nsessão,\\nlogins\\nefetuados,\\nentre\\noutros).\\n●\\nTendo\\nessas\\nmétricas\\ncoletadas,\\nserão\\nidentificadas\\nações/melhorias\\nnas\\nferramentas\\ne\\nna\\ncondução\\ndo\\ncurso\\nque\\ndeverão\\nser\\nexecutadas\\ncom\\no\\nobjetivo\\nde\\naumentar\\no\\nengajamento\\ndos\\nalunos\\nde\\ndiversas\\nformas\\ndiferentes.\\nGrande\\nparte\\ndessas\\nações\\nenvolve\\nalgum\\ntipo\\nde\\nintegração\\ncom\\numa\\nIA\\nGenerativa,\\ndado\\no\\ngrande\\nvolume\\nde\\nalunos\\ndesses\\ncursos\\ne\\na\\ndificuldade\\nque\\nexiste\\nde\\nalocação\\nde\\npessoas\\npara\\na\\ncomunicação\\ncom\\ntodos\\neles.\\nPara\\ncada\\nação\\nidentificada\\nDEVERÁ\\nser\\nformulada\\numa\\nhipótese\\ne\\num\\nexperimento\\ndeverá\\nser\\nexecutado\\npara\\nvalidar\\na\\nefetividade\\ndessa\\nação\\nna\\nmelhoria\\ndo\\nengajamento\\ndo\\naluno.\\nVale\\nressaltar\\nque\\na\\nárea\\nde\\nCS\\né\\numa\\nárea\\nque\\nfaz\\nuso\\nINTENSO\\nde\\ndefinição\\ne\\nvalidação\\nde', metadata={'source': '1. Projeto Uso IA Generativa para redução de Desistência de alunos de Graduação EAD.pdf', 'page': 5}),\n",
       " Document(page_content='hipóteses,\\nutilizando\\ndiversos\\nmétodos\\nestatísticos,\\nmas\\nem\\nespecial\\nos\\ntestes\\nA/B.\\nSendo\\nassim,\\na\\nresposta\\nàs\\nquestões\\nde\\npesquisas\\ncolocadas\\nna\\nquestão\\n“c”\\ndar-se-á\\natravés\\nda\\ndefinição\\ne\\nvalidação\\nde\\ninúmeras\\nhipóteses\\nde\\nmelhorias\\nmenores\\nque\\nvisam\\no\\naumento\\ndo\\nengajamento\\ndos\\nalunos\\ne\\nredução\\nda\\nevasão.\\nSendo\\nassim,\\npode-se\\nafirmar\\nque\\nesse\\né\\num\\ntrabalho\\nexperimental\\nde\\nmelhoria\\ncontínua\\nda\\nexperiência\\ne\\nsucesso\\ndo\\ncliente\\n(aluno).\\nh)\\nQuestão\\n06\\n-\\nPor\\nque\\na\\npresente\\nproposta\\npode\\nser\\ndesenvolvida\\nde\\nforma\\neficiente\\ne\\neficaz\\nnos\\nlaboratórios\\nda\\nUnifei?\\nA\\nintegração\\nde\\ntodas\\nas\\ntecnologias\\npropostas\\nneste\\ntrabalho\\n(Moodle,\\nMixpanel,\\nAmplitude\\ne\\nalgum\\nframework\\nde\\nIA\\nGenerativa),\\nnão\\nrequer\\no\\nuso\\nde\\nhardware\\nou\\nsoftware\\nproprietário\\n(as\\nferramentas\\nMixpanel\\ne\\nAmplitude,\\napesar\\nde\\nproprietárias\\ntem\\nversões\\ngratuitas\\nque\\natendem\\nàs\\nnecessidades\\ndo\\nprojeto).\\nAdemais\\na\\nuniversidade\\npossui\\num\\nproblema\\nREAL\\n(evasão\\nde\\nalunos\\nde\\ncursos\\nde\\ngraduação\\nEAD)\\no\\nque\\nfaz\\ndela\\numa\\ncandidata\\na\\nparticipar\\ndo\\nestudo.\\ni)\\nQuestão\\n07\\n-\\nPor\\nque\\na\\nequipe\\nproponente\\nestá\\ncapacitada\\na\\ndesenvolver\\na\\nproposta\\nde\\nforma\\neficiente\\ne\\neficaz?\\nA\\nárea\\nde\\nCS\\né\\numa\\nsubárea\\nde\\nGestão\\nde\\nProdutos\\nDigitais,\\nque\\nutiliza\\ndiversas\\nferramentas\\ne\\ntécnicas\\nprovenientes\\ndas\\náreas\\nde\\nEngenharia\\nde\\nSoftware,\\nMelhoria\\nde\\nProcesso\\nde\\nSoftware,\\nGestão\\nde\\nProjetos\\ne\\nMetodologias\\nÁgeis,\\náreas\\nas\\nquais\\no\\nprofessor\\nAdler\\nDiniz\\nde\\nSouza\\npossui\\numa\\nvasta\\nexperiência,\\ntendo\\ndezenas\\nde\\nartigos\\npublicados\\nem\\nJournals\\ne\\nConferências\\nnacionais\\ne\\ninternacionais.\\nOs\\ngrandes\\ne\\nrecentes\\navanços\\ndos\\nmodelos\\nde\\naprendizado\\nde\\nmáquina\\nlevaram\\na\\numa\\ntecnologia\\nde\\nIA\\nsofisticada\\ncapaz\\nde\\ngerar\\nconteúdo\\ndigital,\\nas\\nIAs\\ngenerativas.\\nOs\\nmodelos\\ngenerativos\\nenvolvem\\naprendizado\\nde\\nmáquina\\nnão\\nsupervisionado\\nou\\nparcialmente\\nsupervisionados\\ncom\\ncapacidade\\nde\\ngeração\\nde\\nnovos\\ndados\\nincluindo\\nimagem,\\náudio\\ne\\ntexto.\\nA\\nprincipal\\nsubárea\\nde\\natuação\\nda\\nprofessora\\nIsabela\\nNeves\\nDrummond\\ndentro\\nda\\ngrande\\nárea\\nde\\nInteligência\\nArtificial\\nenvolve\\na\\naplicação\\nde\\nmodelos\\nde\\naprendizado\\nde\\nmáquina\\na\\ndados\\nde\\ndiferentes\\nnaturezas.\\nj)\\nQuestão\\n08\\n-\\nComo\\nas\\natividades\\nserão\\ndesenvolvidas\\nao\\nlongo\\ndo\\ntempo?', metadata={'source': '1. Projeto Uso IA Generativa para redução de Desistência de alunos de Graduação EAD.pdf', 'page': 6})]"
      ]
     },
     "execution_count": 6,
     "metadata": {},
     "output_type": "execute_result"
    }
   ],
   "source": [
    "from langchain_community.document_loaders import PyPDFLoader\n",
    "\n",
    "### Utilize o pdf que preferir e coloque na mesma pasta do notebook\n",
    "loader = PyPDFLoader(\"1. Projeto Uso IA Generativa para redução de Desistência de alunos de Graduação EAD.pdf\") \n",
    "pages = loader.load_and_split()\n",
    "pages"
   ]
  },
  {
   "cell_type": "code",
   "execution_count": null,
   "metadata": {},
   "outputs": [],
   "source": [
    "from langchain_community.vectorstores import DocArrayInMemorySearch\n",
    "\n",
    "vectorstore = DocArrayInMemorySearch.from_documents(pages, embedding=embeddings)"
   ]
  },
  {
   "cell_type": "code",
   "execution_count": null,
   "metadata": {},
   "outputs": [],
   "source": [
    "retriever = vectorstore.as_retriever()\n",
    "retriever.invoke(\"machine learning\")"
   ]
  },
  {
   "cell_type": "code",
   "execution_count": null,
   "metadata": {},
   "outputs": [],
   "source": [
    "from operator import itemgetter\n",
    "\n",
    "chain = (\n",
    "    {\n",
    "        \"context\": itemgetter(\"question\") | retriever,\n",
    "        \"question\": itemgetter(\"question\"),\n",
    "    }\n",
    "    | prompt\n",
    "    | model\n",
    "    | parser\n",
    ")"
   ]
  },
  {
   "cell_type": "code",
   "execution_count": null,
   "metadata": {},
   "outputs": [],
   "source": [
    "#questions = [\n",
    "#    \"What is the purpose of the course?\",\n",
    "#    \"How many hours of live sessions?\",\n",
    "#    \"How many coding assignments are there in the program?\",\n",
    "#    \"Is there a program certificate upon completion?\",\n",
    "#    \"What programming language will be used in the program?\",\n",
    "#    \"How much does the program cost?\",\n",
    "#]\n",
    "\n",
    "#for question in questions:\n",
    "#    print(f\"Question: {question}\")\n",
    "#    print(f\"Answer: {chain.invoke({'question': question})}\")\n",
    "#    print()"
   ]
  },
  {
   "cell_type": "code",
   "execution_count": null,
   "metadata": {},
   "outputs": [],
   "source": [
    "#chain.batch([{\"question\": q}])"
   ]
  },
  {
   "cell_type": "code",
   "execution_count": null,
   "metadata": {},
   "outputs": [],
   "source": [
    "for s in chain.stream({\"question\": \"INSERIR A PERGUNTA AQUI?\"}): # Aqui modifica a pergunta\n",
    "    print(s, end=\"\", flush=True)"
   ]
  },
  {
   "cell_type": "code",
   "execution_count": null,
   "metadata": {},
   "outputs": [],
   "source": [
    "# from langchain_community.document_loaders import WebBaseLoader\n",
    "# from langchain_text_splitters import RecursiveCharacterTextSplitter\n",
    "\n",
    "# loader = WebBaseLoader(\"https://www.ml.school\")\n",
    "# docs = loader.load()\n",
    "# documents = RecursiveCharacterTextSplitter(\n",
    "#     chunk_size=1000, chunk_overlap=200\n",
    "# ).split_documents(docs)\n",
    "\n",
    "# documents"
   ]
  },
  {
   "cell_type": "code",
   "execution_count": null,
   "metadata": {},
   "outputs": [],
   "source": []
  }
 ],
 "metadata": {
  "kernelspec": {
   "display_name": ".venv",
   "language": "python",
   "name": "python3"
  },
  "language_info": {
   "codemirror_mode": {
    "name": "ipython",
    "version": 3
   },
   "file_extension": ".py",
   "mimetype": "text/x-python",
   "name": "python",
   "nbconvert_exporter": "python",
   "pygments_lexer": "ipython3",
   "version": "3.9.13"
  }
 },
 "nbformat": 4,
 "nbformat_minor": 2
}
